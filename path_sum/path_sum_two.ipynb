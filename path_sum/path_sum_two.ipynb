{
 "cells": [
  {
   "cell_type": "code",
   "execution_count": 2,
   "metadata": {},
   "outputs": [],
   "source": [
    "import numpy as np"
   ]
  },
  {
   "cell_type": "code",
   "execution_count": 37,
   "metadata": {},
   "outputs": [
    {
     "data": {
      "text/plain": [
       "array([[131, 673, 234, 103,  18],\n",
       "       [201,  96, 342, 965, 150],\n",
       "       [630, 803, 746, 422, 111],\n",
       "       [537, 699, 746, 121, 956],\n",
       "       [805, 732, 524,  37, 331]])"
      ]
     },
     "execution_count": 37,
     "metadata": {},
     "output_type": "execute_result"
    }
   ],
   "source": [
    "mat = np.loadtxt('matrix2.txt', delimiter=',').astype('int')\n",
    "mat"
   ]
  },
  {
   "cell_type": "code",
   "execution_count": 38,
   "metadata": {},
   "outputs": [
    {
     "data": {
      "text/plain": [
       "(5, 5)"
      ]
     },
     "execution_count": 38,
     "metadata": {},
     "output_type": "execute_result"
    }
   ],
   "source": [
    "mat.shape"
   ]
  },
  {
   "cell_type": "code",
   "execution_count": 51,
   "metadata": {},
   "outputs": [],
   "source": [
    "class path_sum():\n",
    "    \n",
    "    def __init__(self, matrix: np.ndarray):\n",
    "        self.mat = matrix\n",
    "        self.x = 0\n",
    "        self.y = 0\n",
    "        \n",
    "    def down(self):\n",
    "        self.y += 1\n",
    "        \n",
    "    def right(self):\n",
    "        self.x += 1\n",
    "        \n",
    "    def up(self):\n",
    "        self.y -= 1\n",
    "        \n",
    "    def left(self):\n",
    "        self.x -= 1\n",
    "    \n",
    "    def two_path(self):\n",
    "        \n",
    "        sum = mat[0][0]\n",
    "        \n",
    "        while self.x < mat.shape[0]-1 and self.y < mat.shape[1]-1:\n",
    "            \n",
    "            right_value = mat[self.x+1][self.y]\n",
    "            down_value = mat[self.x][self.y+1]\n",
    "            \n",
    "            if right_value <= down_value:\n",
    "                min = right_value\n",
    "                self.right()\n",
    "            else:\n",
    "                min = down_value\n",
    "                self.down()\n",
    "                \n",
    "            print(min)\n",
    "            sum += min\n",
    "            \n",
    "        print(sum)\n",
    "        \n",
    "        return sum"
   ]
  },
  {
   "cell_type": "code",
   "execution_count": 52,
   "metadata": {},
   "outputs": [],
   "source": [
    "two = path_sum(mat)"
   ]
  },
  {
   "cell_type": "code",
   "execution_count": 53,
   "metadata": {},
   "outputs": [
    {
     "name": "stdout",
     "output_type": "stream",
     "text": [
      "201\n",
      "96\n",
      "342\n",
      "746\n",
      "422\n",
      "111\n",
      "2049\n"
     ]
    },
    {
     "data": {
      "text/plain": [
       "2049"
      ]
     },
     "execution_count": 53,
     "metadata": {},
     "output_type": "execute_result"
    }
   ],
   "source": [
    "two.two_path()"
   ]
  },
  {
   "cell_type": "code",
   "execution_count": null,
   "metadata": {},
   "outputs": [],
   "source": []
  },
  {
   "cell_type": "code",
   "execution_count": null,
   "metadata": {},
   "outputs": [],
   "source": []
  }
 ],
 "metadata": {
  "kernelspec": {
   "display_name": "manimenv",
   "language": "python",
   "name": "python3"
  },
  "language_info": {
   "codemirror_mode": {
    "name": "ipython",
    "version": 3
   },
   "file_extension": ".py",
   "mimetype": "text/x-python",
   "name": "python",
   "nbconvert_exporter": "python",
   "pygments_lexer": "ipython3",
   "version": "3.11.5"
  }
 },
 "nbformat": 4,
 "nbformat_minor": 2
}
