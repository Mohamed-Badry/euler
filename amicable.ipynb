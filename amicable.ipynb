{
 "cells": [
  {
   "cell_type": "code",
   "execution_count": 1,
   "metadata": {},
   "outputs": [],
   "source": [
    "from math import sqrt\n",
    "from itertools import combinations\n",
    "from tqdm import tqdm\n",
    "from multiprocessing import Process, Pool, cpu_count"
   ]
  },
  {
   "cell_type": "code",
   "execution_count": 5,
   "metadata": {},
   "outputs": [],
   "source": [
    "def amicable(p, q):\n",
    "    if d(p) == q and d(q) == p and p != q:\n",
    "        return True\n",
    "\n",
    "def d(n):\n",
    "    sum = 1\n",
    "    for i in range(2, int(sqrt(n))):\n",
    "        div = n / i\n",
    "        if div % 1 == 0:\n",
    "            sum += int(n/div)\n",
    "            sum += int(div)\n",
    "    return sum\n",
    "\n",
    "def amicable_nums_sum(pair):\n",
    "    i, j = pair\n",
    "    if amicable(i, j):\n",
    "        print(' ', i, ' ',  j)\n",
    "        return i + j\n",
    "    return 0 "
   ]
  },
  {
   "cell_type": "code",
   "execution_count": 6,
   "metadata": {},
   "outputs": [
    {
     "name": "stdout",
     "output_type": "stream",
     "text": [
      "  220   284\n",
      "  1184   1210\n",
      "  2620   2924\n",
      "  5020   5564\n",
      "  6232   6368\n"
     ]
    },
    {
     "data": {
      "text/plain": [
       "31626"
      ]
     },
     "execution_count": 6,
     "metadata": {},
     "output_type": "execute_result"
    }
   ],
   "source": [
    "NCPU = cpu_count() - 2\n",
    "combs = combinations(range(1, 10000), 2)\n",
    "# l = len(list(combs))\n",
    "sum = 0\n",
    "for comb in combs:\n",
    "    pair_sum = amicable_nums_sum(comb)\n",
    "    sum += pair_sum\n",
    "sum"
   ]
  },
  {
   "cell_type": "code",
   "execution_count": 7,
   "metadata": {},
   "outputs": [
    {
     "data": {
      "text/plain": [
       "31626"
      ]
     },
     "execution_count": 7,
     "metadata": {},
     "output_type": "execute_result"
    }
   ],
   "source": [
    "sum"
   ]
  },
  {
   "cell_type": "code",
   "execution_count": null,
   "metadata": {},
   "outputs": [],
   "source": []
  }
 ],
 "metadata": {
  "kernelspec": {
   "display_name": "manimenv",
   "language": "python",
   "name": "python3"
  },
  "language_info": {
   "codemirror_mode": {
    "name": "ipython",
    "version": 3
   },
   "file_extension": ".py",
   "mimetype": "text/x-python",
   "name": "python",
   "nbconvert_exporter": "python",
   "pygments_lexer": "ipython3",
   "version": "3.11.5"
  }
 },
 "nbformat": 4,
 "nbformat_minor": 2
}
